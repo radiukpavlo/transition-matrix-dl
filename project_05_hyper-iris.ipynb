{
 "cells": [
  {
   "cell_type": "markdown",
   "id": "9429755869ff6538",
   "metadata": {},
   "source": [
    "## 1. Data Upload"
   ]
  },
  {
   "cell_type": "code",
   "id": "7fde58ff0426c5dd",
   "metadata": {
    "collapsed": false,
    "ExecuteTime": {
     "end_time": "2024-01-25T14:37:29.715035900Z",
     "start_time": "2024-01-25T14:37:29.456947300Z"
    }
   },
   "outputs": [],
   "source": [
    "import os\n",
    "import pandas as pd\n",
    "import numpy as np\n",
    "from sklearn.manifold import MDS, TSNE\n",
    "from sklearn.preprocessing import StandardScaler\n",
    "from sklearn import datasets\n",
    "from scipy.optimize import minimize"
   ],
   "execution_count": 285
  },
  {
   "cell_type": "code",
   "outputs": [],
   "source": [
    "# Load the Iris dataset\n",
    "iris = datasets.load_iris()\n",
    "iris_features = iris.data\n",
    "iris_labels = iris.target\n",
    "iris_target_names = iris.target_names"
   ],
   "metadata": {
    "collapsed": false,
    "ExecuteTime": {
     "end_time": "2024-01-25T14:37:29.720040Z",
     "start_time": "2024-01-25T14:37:29.698022700Z"
    }
   },
   "id": "667114b9e58936a8",
   "execution_count": 286
  },
  {
   "metadata": {
    "ExecuteTime": {
     "end_time": "2024-01-25T14:37:29.791640500Z",
     "start_time": "2024-01-25T14:37:29.725547500Z"
    }
   },
   "cell_type": "code",
   "outputs": [
    {
     "data": {
      "text/plain": [
       "'.\\\\projects_temp-data\\\\my_iris_dataset.csv'"
      ]
     },
     "metadata": {},
     "output_type": "execute_result",
     "execution_count": 287
    }
   ],
   "source": [
    "# Create a DataFrame from the features and labels\n",
    "iris_df = pd.DataFrame(iris_features, columns=iris.feature_names)\n",
    "iris_df['label'] = iris_labels\n",
    "iris_df['label_name'] = iris_df['label'].apply(lambda x: iris_target_names[x])\n",
    "\n",
    "# Save the DataFrame to a CSV file\n",
    "csv_file_path = f'.\\projects_temp-data\\my_iris_dataset.csv'\n",
    "iris_df.to_csv(csv_file_path, index=False)\n",
    "\n",
    "csv_file_path"
   ],
   "id": "c805e551725ca8fc",
   "execution_count": 287
  },
  {
   "cell_type": "markdown",
   "id": "e695dfea778f3996",
   "metadata": {},
   "source": [
    "## 2. Multi-dimensional scaling"
   ]
  },
  {
   "cell_type": "code",
   "id": "f65e9e1eb4935bbd",
   "metadata": {
    "collapsed": false,
    "ExecuteTime": {
     "end_time": "2024-01-25T14:37:29.946904500Z",
     "start_time": "2024-01-25T14:37:29.772612600Z"
    }
   },
   "outputs": [],
   "source": [
    "# Standardize the data\n",
    "scaler = StandardScaler()\n",
    "X_scaled = scaler.fit_transform(iris_features)\n",
    "\n",
    "# Apply MDS to reduce the dimensions to 2\n",
    "mds = MDS(n_components=2, normalized_stress='auto')\n",
    "X_mds = mds.fit_transform(X_scaled)\n",
    "\n",
    "# Apply t-SNE to reduce the dimensions to 2\n",
    "# tsne = TSNE(n_components=2, random_state=42, n_iter=500)\n",
    "# X_tsne = tsne.fit_transform(X_scaled)\n",
    "\n",
    "# Convert the reduced data back to a pandas DataFrame\n",
    "iris_reduced = pd.DataFrame(X_mds, columns=[\"x1\", \"x2\"])\n",
    "iris_reduced['labels'] = iris_labels\n"
   ],
   "execution_count": 288
  },
  {
   "cell_type": "code",
   "id": "4c53631ef3401b86",
   "metadata": {
    "collapsed": false,
    "ExecuteTime": {
     "end_time": "2024-01-25T14:37:29.950902900Z",
     "start_time": "2024-01-25T14:37:29.898302900Z"
    }
   },
   "outputs": [
    {
     "data": {
      "text/plain": [
       "           x1        x2  labels\n",
       "0    1.355343  1.893822       0\n",
       "1    0.198765  2.192878       0\n",
       "2    0.633519  2.317671       0\n",
       "3    0.369314  2.366958       0\n",
       "4    1.555367  1.947923       0\n",
       "..        ...       ...     ...\n",
       "145 -0.350297 -1.916422       2\n",
       "146 -1.489033 -1.076534       2\n",
       "147 -0.355014 -1.517677       2\n",
       "148  0.709236 -1.766086       2\n",
       "149 -0.401367 -0.880707       2\n",
       "\n",
       "[150 rows x 3 columns]"
      ],
      "text/html": [
       "<div>\n",
       "<style scoped>\n",
       "    .dataframe tbody tr th:only-of-type {\n",
       "        vertical-align: middle;\n",
       "    }\n",
       "\n",
       "    .dataframe tbody tr th {\n",
       "        vertical-align: top;\n",
       "    }\n",
       "\n",
       "    .dataframe thead th {\n",
       "        text-align: right;\n",
       "    }\n",
       "</style>\n",
       "<table border=\"1\" class=\"dataframe\">\n",
       "  <thead>\n",
       "    <tr style=\"text-align: right;\">\n",
       "      <th></th>\n",
       "      <th>x1</th>\n",
       "      <th>x2</th>\n",
       "      <th>labels</th>\n",
       "    </tr>\n",
       "  </thead>\n",
       "  <tbody>\n",
       "    <tr>\n",
       "      <th>0</th>\n",
       "      <td>1.355343</td>\n",
       "      <td>1.893822</td>\n",
       "      <td>0</td>\n",
       "    </tr>\n",
       "    <tr>\n",
       "      <th>1</th>\n",
       "      <td>0.198765</td>\n",
       "      <td>2.192878</td>\n",
       "      <td>0</td>\n",
       "    </tr>\n",
       "    <tr>\n",
       "      <th>2</th>\n",
       "      <td>0.633519</td>\n",
       "      <td>2.317671</td>\n",
       "      <td>0</td>\n",
       "    </tr>\n",
       "    <tr>\n",
       "      <th>3</th>\n",
       "      <td>0.369314</td>\n",
       "      <td>2.366958</td>\n",
       "      <td>0</td>\n",
       "    </tr>\n",
       "    <tr>\n",
       "      <th>4</th>\n",
       "      <td>1.555367</td>\n",
       "      <td>1.947923</td>\n",
       "      <td>0</td>\n",
       "    </tr>\n",
       "    <tr>\n",
       "      <th>...</th>\n",
       "      <td>...</td>\n",
       "      <td>...</td>\n",
       "      <td>...</td>\n",
       "    </tr>\n",
       "    <tr>\n",
       "      <th>145</th>\n",
       "      <td>-0.350297</td>\n",
       "      <td>-1.916422</td>\n",
       "      <td>2</td>\n",
       "    </tr>\n",
       "    <tr>\n",
       "      <th>146</th>\n",
       "      <td>-1.489033</td>\n",
       "      <td>-1.076534</td>\n",
       "      <td>2</td>\n",
       "    </tr>\n",
       "    <tr>\n",
       "      <th>147</th>\n",
       "      <td>-0.355014</td>\n",
       "      <td>-1.517677</td>\n",
       "      <td>2</td>\n",
       "    </tr>\n",
       "    <tr>\n",
       "      <th>148</th>\n",
       "      <td>0.709236</td>\n",
       "      <td>-1.766086</td>\n",
       "      <td>2</td>\n",
       "    </tr>\n",
       "    <tr>\n",
       "      <th>149</th>\n",
       "      <td>-0.401367</td>\n",
       "      <td>-0.880707</td>\n",
       "      <td>2</td>\n",
       "    </tr>\n",
       "  </tbody>\n",
       "</table>\n",
       "<p>150 rows × 3 columns</p>\n",
       "</div>"
      ]
     },
     "metadata": {},
     "output_type": "execute_result",
     "execution_count": 289
    }
   ],
   "source": [
    "iris_reduced"
   ],
   "execution_count": 289
  },
  {
   "cell_type": "markdown",
   "id": "e5da81fd32728ac3",
   "metadata": {},
   "source": [
    "## 3. Visual analytics"
   ]
  },
  {
   "cell_type": "code",
   "id": "41b41a730c5cf71b",
   "metadata": {
    "collapsed": false,
    "ExecuteTime": {
     "end_time": "2024-01-25T14:37:29.969925100Z",
     "start_time": "2024-01-25T14:37:29.929862100Z"
    }
   },
   "outputs": [],
   "source": [
    "def interpolate_coordinates(x_1, x_n, n):\n",
    "    \"\"\"\n",
    "    This function calculates the values of the interpolate_coordinates\n",
    "    of a line based on its first and last coordinates.\n",
    "    :param x_1:\n",
    "    :param x_n:\n",
    "    :param n:\n",
    "    :return:\n",
    "    \"\"\"\n",
    "    # Ensure n is greater than 1 to avoid division by zero\n",
    "    if n <= 1:\n",
    "        raise ValueError(\"n must be greater than 1 to calculate intermediate points.\")\n",
    "\n",
    "    # List to hold all the coordinates including the first and the last\n",
    "    inter_coordinates = []\n",
    "\n",
    "    # Calculate each intermediate coordinate\n",
    "    for i in range(0, n):\n",
    "        x_i = x_1 + ((x_n - x_1) * i) / (n - 1)\n",
    "        inter_coordinates.append(x_i)\n",
    "\n",
    "    return inter_coordinates\n"
   ],
   "execution_count": 290
  },
  {
   "cell_type": "code",
   "id": "966d400b47e30a90",
   "metadata": {
    "collapsed": false,
    "ExecuteTime": {
     "end_time": "2024-01-25T14:38:14.176580200Z",
     "start_time": "2024-01-25T14:38:13.946468500Z"
    }
   },
   "outputs": [
    {
     "data": {
      "text/plain": [
       "    x1        x2\n",
       "0 -2.0  2.000000\n",
       "1  0.0  0.666667\n",
       "2  2.0 -0.666667\n",
       "3  4.0 -2.000000"
      ],
      "text/html": [
       "<div>\n",
       "<style scoped>\n",
       "    .dataframe tbody tr th:only-of-type {\n",
       "        vertical-align: middle;\n",
       "    }\n",
       "\n",
       "    .dataframe tbody tr th {\n",
       "        vertical-align: top;\n",
       "    }\n",
       "\n",
       "    .dataframe thead th {\n",
       "        text-align: right;\n",
       "    }\n",
       "</style>\n",
       "<table border=\"1\" class=\"dataframe\">\n",
       "  <thead>\n",
       "    <tr style=\"text-align: right;\">\n",
       "      <th></th>\n",
       "      <th>x1</th>\n",
       "      <th>x2</th>\n",
       "    </tr>\n",
       "  </thead>\n",
       "  <tbody>\n",
       "    <tr>\n",
       "      <th>0</th>\n",
       "      <td>-2.0</td>\n",
       "      <td>2.000000</td>\n",
       "    </tr>\n",
       "    <tr>\n",
       "      <th>1</th>\n",
       "      <td>0.0</td>\n",
       "      <td>0.666667</td>\n",
       "    </tr>\n",
       "    <tr>\n",
       "      <th>2</th>\n",
       "      <td>2.0</td>\n",
       "      <td>-0.666667</td>\n",
       "    </tr>\n",
       "    <tr>\n",
       "      <th>3</th>\n",
       "      <td>4.0</td>\n",
       "      <td>-2.000000</td>\n",
       "    </tr>\n",
       "  </tbody>\n",
       "</table>\n",
       "</div>"
      ]
     },
     "metadata": {},
     "output_type": "execute_result",
     "execution_count": 317
    }
   ],
   "source": [
    "x_1_first = -2\n",
    "x_2_first = 2\n",
    "\n",
    "x_1_last = 4\n",
    "x_2_last = -2\n",
    "\n",
    "# The number of intermediate points\n",
    "num_inter_points = iris_features.shape[1]\n",
    "\n",
    "x_1_inter_coordinates = interpolate_coordinates(x_1_first, x_1_last, num_inter_points)\n",
    "x_2_inter_coordinates = interpolate_coordinates(x_2_first, x_2_last, num_inter_points)\n",
    "# print(x_1_inter_coordinates)\n",
    "# print(x_2_inter_coordinates)\n",
    "\n",
    "# Create a DataFrame from the coordinates\n",
    "coordinates_df = pd.DataFrame({'x1': x_1_inter_coordinates, 'x2': x_2_inter_coordinates})\n",
    "coordinates_df\n"
   ],
   "execution_count": 317
  },
  {
   "metadata": {
    "ExecuteTime": {
     "end_time": "2024-01-25T14:38:14.226155300Z",
     "start_time": "2024-01-25T14:38:14.176580200Z"
    }
   },
   "cell_type": "code",
   "outputs": [],
   "source": [
    "import matplotlib.pyplot as plt\n",
    "import matplotlib.ticker as ticker\n",
    "# %config InlineBackend.figure_format = 'svg' \n",
    "plt.style.use('seaborn-v0_8-pastel')\n",
    "FIGURE_FORMAT = 'svg'\n",
    "PATH_FIGURES = '.\\projects_temp-figs'"
   ],
   "id": "287276a6513e48ee",
   "execution_count": 318
  },
  {
   "cell_type": "code",
   "outputs": [],
   "source": [
    "def plot_hyper_line(save_path):\n",
    "\n",
    "    NUM_TICKS = 1\n",
    "\n",
    "    # Define the figure name and path\n",
    "    figure_name = f'my_hyper_line'\n",
    "    my_save_path = os.path.join(save_path, figure_name + f'.{FIGURE_FORMAT}')\n",
    "    \n",
    "    # Define colors for each species\n",
    "    colors = ['red', 'green', 'blue']\n",
    "    \n",
    "    # Plotting\n",
    "    plt.figure(figsize=(9,5), dpi=300)\n",
    "    \n",
    "    # Set tick frequency using MultipleLocator\n",
    "    ax = plt.gca()\n",
    "    ax.xaxis.set_major_locator(ticker.MultipleLocator(NUM_TICKS))\n",
    "    ax.yaxis.set_major_locator(ticker.MultipleLocator(NUM_TICKS))\n",
    "    \n",
    "    # Plot each species\n",
    "    for item, species in enumerate(iris_target_names):\n",
    "        subset = iris_reduced[iris_reduced['labels'] == item]\n",
    "        plt.scatter(subset['x1'], subset['x2'], color=colors[item], label=species)\n",
    "    \n",
    "        # Annotate each point with its class label\n",
    "        for _, row in subset.iterrows():\n",
    "            plt.annotate(str(item), (row['x1'], row['x2']), textcoords=\"offset points\", xytext=(6,-6), ha='center', fontsize=8)\n",
    "    \n",
    "    # Draw the separating line\n",
    "    line_x1 = coordinates_df['x1'].tolist()\n",
    "    line_x2 = coordinates_df['x2'].tolist()\n",
    "    plt.plot(line_x1, line_x2, 'k-')  # 'k-' for black line\n",
    "    \n",
    "    # Highlight points on the separating line\n",
    "    # If coordinates_df contains these points, plot them with a distinct style\n",
    "    plt.scatter(line_x1, line_x2, color='k', marker='^', label='dividing line')\n",
    "\n",
    "    plt.xticks(fontsize=12, fontweight='bold', color='#333333')\n",
    "    plt.yticks(fontsize=12, fontweight='bold', color='#333333')\n",
    "    plt.xlabel('X1', fontsize=12, fontweight='bold', color='#333333')\n",
    "    plt.ylabel('X2', fontsize=12, fontweight='bold', color='#333333')\n",
    "    plt.title('Visual analytics by human-in-the-loop', fontsize=16, fontweight='bold')\n",
    "    plt.legend(fontsize=12)\n",
    "    plt.savefig(my_save_path, format=FIGURE_FORMAT, bbox_inches='tight')\n",
    "    \n",
    "    plt.show()"
   ],
   "metadata": {
    "collapsed": false,
    "ExecuteTime": {
     "end_time": "2024-01-25T14:38:14.242551400Z",
     "start_time": "2024-01-25T14:38:14.197594600Z"
    }
   },
   "id": "539e273fb1e88f6a",
   "execution_count": 319
  },
  {
   "metadata": {
    "ExecuteTime": {
     "end_time": "2024-01-25T14:38:15.844869100Z",
     "start_time": "2024-01-25T14:38:14.219639100Z"
    }
   },
   "cell_type": "code",
   "outputs": [
    {
     "data": {
      "text/plain": [
       "<Figure size 2700x1500 with 1 Axes>"
      ],
      "image/png": "[encoded data removed]"
     },
     "metadata": {},
     "output_type": "display_data"
    }
   ],
   "source": [
    "plot_hyper_line(save_path=PATH_FIGURES)"
   ],
   "id": "a515d81fe04dccc9",
   "execution_count": 320
  },
  {
   "cell_type": "markdown",
   "id": "ebc5f8d71f9e871e",
   "metadata": {},
   "source": [
    "## 4. Calculate Transition Matrix"
   ]
  },
  {
   "cell_type": "markdown",
   "id": "ef465326b3763a84",
   "metadata": {},
   "source": [
    "### 4.1. Singular Value Decomposition (SVD)"
   ]
  },
  {
   "cell_type": "code",
   "id": "c9b16087dcd6299f",
   "metadata": {
    "collapsed": false,
    "ExecuteTime": {
     "end_time": "2024-01-25T14:38:16.280193100Z",
     "start_time": "2024-01-25T14:38:15.820733200Z"
    }
   },
   "outputs": [],
   "source": [
    "# Receive values from the matrix A DataFrame \n",
    "formal_model_reduced_values = iris_reduced.drop('labels', axis=1).values\n",
    "\n",
    "# Calculate SVD\n",
    "U, s, Vt = np.linalg.svd(formal_model_reduced_values)\n",
    "\n",
    "# Construct the full diagonal matrix\n",
    "S = np.zeros(formal_model_reduced_values.shape)\n",
    "for i in range(min(formal_model_reduced_values.shape)):\n",
    "    S[i, i] = s[i]\n",
    "\n",
    "# print(\"U:\\n\", U)\n",
    "# print(\"\\nS:\\n\", S)\n",
    "# print(\"\\nVt:\\n\", Vt)\n"
   ],
   "execution_count": 321
  },
  {
   "cell_type": "code",
   "outputs": [
    {
     "data": {
      "text/plain": [
       "array([[ 1.35534336,  1.8938219 ],\n",
       "       [ 0.19876489,  2.19287805],\n",
       "       [ 0.63351898,  2.31767138],\n",
       "       [ 0.36931379,  2.36695824],\n",
       "       [ 1.55536718,  1.94792319],\n",
       "       [ 2.20753678,  1.30635982],\n",
       "       [ 1.01708334,  2.28000096],\n",
       "       [ 1.1009007 ,  1.96789881],\n",
       "       [-0.10045559,  2.60330836],\n",
       "       [ 0.43133185,  2.20533819],\n",
       "       [ 1.84746933,  1.56529419],\n",
       "       [ 1.04808764,  2.10720903],\n",
       "       [ 0.20291366,  2.34164665],\n",
       "       [ 0.16110374,  2.81952482],\n",
       "       [ 2.63398902,  1.3077382 ],\n",
       "       [ 3.37660888,  1.00533082],\n",
       "       [ 2.26430251,  1.42936043],\n",
       "       [ 1.32934332,  1.82443715],\n",
       "       [ 2.09435425,  1.15361538],\n",
       "       [ 1.98839771,  1.70773948],\n",
       "       [ 1.17194474,  1.58013722],\n",
       "       [ 1.74296438,  1.66543981],\n",
       "       [ 1.53674116,  2.40951782],\n",
       "       [ 0.80173575,  1.63947052],\n",
       "       [ 1.00361718,  2.02892398],\n",
       "       [ 0.18743249,  2.05721473],\n",
       "       [ 1.0317939 ,  1.79434308],\n",
       "       [ 1.36755139,  1.78249985],\n",
       "       [ 1.16049564,  1.84040464],\n",
       "       [ 0.59548981,  2.22848258],\n",
       "       [ 0.39057173,  2.17118764],\n",
       "       [ 1.14881292,  1.49562468],\n",
       "       [ 2.6964649 ,  1.72186565],\n",
       "       [ 2.96246424,  1.38745338],\n",
       "       [ 0.4174617 ,  2.12506071],\n",
       "       [ 0.69319965,  2.11865262],\n",
       "       [ 1.50215306,  1.5806728 ],\n",
       "       [ 1.56160313,  2.10047764],\n",
       "       [ 0.1266224 ,  2.61409647],\n",
       "       [ 1.12092881,  1.89016604],\n",
       "       [ 1.32369641,  1.93760796],\n",
       "       [-1.4088653 ,  2.67069992],\n",
       "       [ 0.57128737,  2.58045562],\n",
       "       [ 1.2566516 ,  1.59378557],\n",
       "       [ 1.94429919,  1.48645757],\n",
       "       [ 0.16140176,  2.1941222 ],\n",
       "       [ 1.99739448,  1.75469893],\n",
       "       [ 0.60181845,  2.37323496],\n",
       "       [ 1.8222485 ,  1.65062876],\n",
       "       [ 0.8842769 ,  2.02606851],\n",
       "       [ 0.54568184, -1.37051541],\n",
       "       [ 0.28450489, -0.8921423 ],\n",
       "       [ 0.1759877 , -1.39580884],\n",
       "       [-1.76286044,  0.35520735],\n",
       "       [-0.63898029, -0.91077752],\n",
       "       [-0.70061858, -0.09298051],\n",
       "       [ 0.45561961, -0.97392668],\n",
       "       [-1.50233408,  1.22591392],\n",
       "       [-0.23762077, -0.88406332],\n",
       "       [-0.98331217,  0.47042483],\n",
       "       [-2.38612878,  1.2000463 ],\n",
       "       [-0.19794749, -0.36030722],\n",
       "       [-2.03672836,  0.23139553],\n",
       "       [-0.46345422, -0.56404327],\n",
       "       [-0.37257476,  0.23503845],\n",
       "       [ 0.21356584, -1.02394795],\n",
       "       [-0.25785208, -0.20482044],\n",
       "       [-0.80818734,  0.21946988],\n",
       "       [-2.08468261, -0.46723237],\n",
       "       [-1.26506055,  0.40107388],\n",
       "       [ 0.22448294, -0.8228785 ],\n",
       "       [-0.58980717, -0.24887871],\n",
       "       [-1.43761254, -0.73112051],\n",
       "       [-0.67043266, -0.38453162],\n",
       "       [-0.2967898 , -0.61458574],\n",
       "       [-0.03746926, -0.91305928],\n",
       "       [-0.68225708, -1.19265365],\n",
       "       [-0.23659168, -1.38160658],\n",
       "       [-0.47347733, -0.49938591],\n",
       "       [-0.96279859,  0.51848954],\n",
       "       [-1.48150429,  0.53869599],\n",
       "       [-1.45755279,  0.64685714],\n",
       "       [-0.81152109,  0.11524473],\n",
       "       [-0.99840126, -0.69754077],\n",
       "       [-0.27629248, -0.03507816],\n",
       "       [ 0.6962659 , -0.72631185],\n",
       "       [ 0.11612808, -1.17409103],\n",
       "       [-1.87012633, -0.35712629],\n",
       "       [-0.19843071,  0.05002492],\n",
       "       [-1.32787792,  0.29368526],\n",
       "       [-1.14590892,  0.21769042],\n",
       "       [-0.20548556, -0.56076336],\n",
       "       [-1.0532491 ,  0.11124939],\n",
       "       [-1.69835949,  1.17417989],\n",
       "       [-0.89438513,  0.09463806],\n",
       "       [-0.17094953,  0.0101262 ],\n",
       "       [-0.43557552, -0.03045286],\n",
       "       [-0.36298876, -0.45214761],\n",
       "       [-1.23577197,  1.07013552],\n",
       "       [-0.64108265,  0.02459674],\n",
       "       [ 0.48812698, -2.1791618 ],\n",
       "       [-1.17340179, -0.78025751],\n",
       "       [-0.43058039, -2.27502417],\n",
       "       [-0.62315687, -1.31141609],\n",
       "       [-0.48108614, -1.84289461],\n",
       "       [-0.53532802, -2.92392513],\n",
       "       [-1.84946041,  0.4288413 ],\n",
       "       [-0.74993208, -2.38486031],\n",
       "       [-1.53740236, -1.57694577],\n",
       "       [ 0.91067656, -2.86655899],\n",
       "       [ 0.12583078, -1.55166574],\n",
       "       [-1.02844054, -1.30286023],\n",
       "       [-0.37186274, -1.89669008],\n",
       "       [-1.67493297, -0.69170269],\n",
       "       [-1.34355302, -1.2777461 ],\n",
       "       [ 0.16521971, -1.80333239],\n",
       "       [-0.36206504, -1.44698579],\n",
       "       [ 1.39835219, -3.2756837 ],\n",
       "       [-1.4564006 , -3.09087821],\n",
       "       [-2.12046418, -0.44680858],\n",
       "       [ 0.04338421, -2.2571482 ],\n",
       "       [-1.12118724, -0.64304298],\n",
       "       [-1.01018848, -2.9355881 ],\n",
       "       [-0.9788117 , -1.03459308],\n",
       "       [ 0.30410024, -1.97599938],\n",
       "       [ 0.13000364, -2.29198933],\n",
       "       [-0.77418365, -0.95059097],\n",
       "       [-0.33924624, -0.97174824],\n",
       "       [-0.90045432, -1.57214186],\n",
       "       [-0.49297184, -2.08682799],\n",
       "       [-0.94314723, -2.43530948],\n",
       "       [ 1.56276635, -3.19995738],\n",
       "       [-0.93697117, -1.65145437],\n",
       "       [-0.72642459, -0.88706703],\n",
       "       [-1.33779144, -0.74745471],\n",
       "       [-0.4318351 , -3.00604054],\n",
       "       [ 0.68421131, -1.97562219],\n",
       "       [-0.13264575, -1.40820235],\n",
       "       [-0.34198314, -0.85783769],\n",
       "       [-0.13275924, -1.97894178],\n",
       "       [-0.1572452 , -2.14549792],\n",
       "       [-0.09200398, -2.07475898],\n",
       "       [-1.17340179, -0.78025751],\n",
       "       [ 0.0330383 , -2.24171278],\n",
       "       [ 0.3513545 , -2.32114461],\n",
       "       [-0.35029676, -1.91642239],\n",
       "       [-1.48903251, -1.07653424],\n",
       "       [-0.35501353, -1.5176767 ],\n",
       "       [ 0.70923586, -1.76608602],\n",
       "       [-0.401367  , -0.88070718]])"
      ]
     },
     "metadata": {},
     "output_type": "execute_result",
     "execution_count": 322
    }
   ],
   "source": [
    "formal_model_reduced_values"
   ],
   "metadata": {
    "collapsed": false,
    "ExecuteTime": {
     "end_time": "2024-01-25T14:38:16.284193300Z",
     "start_time": "2024-01-25T14:38:15.834270800Z"
    }
   },
   "id": "819ac288e0668213",
   "execution_count": 322
  },
  {
   "cell_type": "markdown",
   "id": "20ecf1e1d1743431",
   "metadata": {},
   "source": [
    "### 4.2. Create the reconstructed matrix of SVD"
   ]
  },
  {
   "cell_type": "code",
   "id": "300dbbed7537914f",
   "metadata": {
    "collapsed": false,
    "ExecuteTime": {
     "end_time": "2024-01-25T14:38:16.285193200Z",
     "start_time": "2024-01-25T14:38:15.875408400Z"
    }
   },
   "outputs": [],
   "source": [
    "# Recompute the original matrix using U, S, and Vt\n",
    "reconstructed_matrix = U.dot(S.dot(Vt))\n",
    "\n",
    "# Convert the reconstructed matrix to a pandas DataFrame, if desired\n",
    "reconstructed_df = pd.DataFrame(reconstructed_matrix)\n"
   ],
   "execution_count": 323
  },
  {
   "cell_type": "code",
   "id": "c855a3fcf677b065",
   "metadata": {
    "collapsed": false,
    "ExecuteTime": {
     "end_time": "2024-01-25T14:38:16.361094100Z",
     "start_time": "2024-01-25T14:38:15.883429Z"
    }
   },
   "outputs": [
    {
     "data": {
      "text/plain": [
       "            0         1\n",
       "0    1.355343  1.893822\n",
       "1    0.198765  2.192878\n",
       "2    0.633519  2.317671\n",
       "3    0.369314  2.366958\n",
       "4    1.555367  1.947923\n",
       "..        ...       ...\n",
       "145 -0.350297 -1.916422\n",
       "146 -1.489033 -1.076534\n",
       "147 -0.355014 -1.517677\n",
       "148  0.709236 -1.766086\n",
       "149 -0.401367 -0.880707\n",
       "\n",
       "[150 rows x 2 columns]"
      ],
      "text/html": [
       "<div>\n",
       "<style scoped>\n",
       "    .dataframe tbody tr th:only-of-type {\n",
       "        vertical-align: middle;\n",
       "    }\n",
       "\n",
       "    .dataframe tbody tr th {\n",
       "        vertical-align: top;\n",
       "    }\n",
       "\n",
       "    .dataframe thead th {\n",
       "        text-align: right;\n",
       "    }\n",
       "</style>\n",
       "<table border=\"1\" class=\"dataframe\">\n",
       "  <thead>\n",
       "    <tr style=\"text-align: right;\">\n",
       "      <th></th>\n",
       "      <th>0</th>\n",
       "      <th>1</th>\n",
       "    </tr>\n",
       "  </thead>\n",
       "  <tbody>\n",
       "    <tr>\n",
       "      <th>0</th>\n",
       "      <td>1.355343</td>\n",
       "      <td>1.893822</td>\n",
       "    </tr>\n",
       "    <tr>\n",
       "      <th>1</th>\n",
       "      <td>0.198765</td>\n",
       "      <td>2.192878</td>\n",
       "    </tr>\n",
       "    <tr>\n",
       "      <th>2</th>\n",
       "      <td>0.633519</td>\n",
       "      <td>2.317671</td>\n",
       "    </tr>\n",
       "    <tr>\n",
       "      <th>3</th>\n",
       "      <td>0.369314</td>\n",
       "      <td>2.366958</td>\n",
       "    </tr>\n",
       "    <tr>\n",
       "      <th>4</th>\n",
       "      <td>1.555367</td>\n",
       "      <td>1.947923</td>\n",
       "    </tr>\n",
       "    <tr>\n",
       "      <th>...</th>\n",
       "      <td>...</td>\n",
       "      <td>...</td>\n",
       "    </tr>\n",
       "    <tr>\n",
       "      <th>145</th>\n",
       "      <td>-0.350297</td>\n",
       "      <td>-1.916422</td>\n",
       "    </tr>\n",
       "    <tr>\n",
       "      <th>146</th>\n",
       "      <td>-1.489033</td>\n",
       "      <td>-1.076534</td>\n",
       "    </tr>\n",
       "    <tr>\n",
       "      <th>147</th>\n",
       "      <td>-0.355014</td>\n",
       "      <td>-1.517677</td>\n",
       "    </tr>\n",
       "    <tr>\n",
       "      <th>148</th>\n",
       "      <td>0.709236</td>\n",
       "      <td>-1.766086</td>\n",
       "    </tr>\n",
       "    <tr>\n",
       "      <th>149</th>\n",
       "      <td>-0.401367</td>\n",
       "      <td>-0.880707</td>\n",
       "    </tr>\n",
       "  </tbody>\n",
       "</table>\n",
       "<p>150 rows × 2 columns</p>\n",
       "</div>"
      ]
     },
     "metadata": {},
     "output_type": "execute_result",
     "execution_count": 324
    }
   ],
   "source": [
    "reconstructed_df"
   ],
   "execution_count": 324
  },
  {
   "cell_type": "code",
   "id": "81f9ceb900efd47d",
   "metadata": {
    "collapsed": false,
    "ExecuteTime": {
     "end_time": "2024-01-25T14:38:16.364091300Z",
     "start_time": "2024-01-25T14:38:15.912491900Z"
    }
   },
   "outputs": [
    {
     "data": {
      "text/plain": [
       "           x1        x2  labels\n",
       "0    1.355343  1.893822       0\n",
       "1    0.198765  2.192878       0\n",
       "2    0.633519  2.317671       0\n",
       "3    0.369314  2.366958       0\n",
       "4    1.555367  1.947923       0\n",
       "..        ...       ...     ...\n",
       "145 -0.350297 -1.916422       2\n",
       "146 -1.489033 -1.076534       2\n",
       "147 -0.355014 -1.517677       2\n",
       "148  0.709236 -1.766086       2\n",
       "149 -0.401367 -0.880707       2\n",
       "\n",
       "[150 rows x 3 columns]"
      ],
      "text/html": [
       "<div>\n",
       "<style scoped>\n",
       "    .dataframe tbody tr th:only-of-type {\n",
       "        vertical-align: middle;\n",
       "    }\n",
       "\n",
       "    .dataframe tbody tr th {\n",
       "        vertical-align: top;\n",
       "    }\n",
       "\n",
       "    .dataframe thead th {\n",
       "        text-align: right;\n",
       "    }\n",
       "</style>\n",
       "<table border=\"1\" class=\"dataframe\">\n",
       "  <thead>\n",
       "    <tr style=\"text-align: right;\">\n",
       "      <th></th>\n",
       "      <th>x1</th>\n",
       "      <th>x2</th>\n",
       "      <th>labels</th>\n",
       "    </tr>\n",
       "  </thead>\n",
       "  <tbody>\n",
       "    <tr>\n",
       "      <th>0</th>\n",
       "      <td>1.355343</td>\n",
       "      <td>1.893822</td>\n",
       "      <td>0</td>\n",
       "    </tr>\n",
       "    <tr>\n",
       "      <th>1</th>\n",
       "      <td>0.198765</td>\n",
       "      <td>2.192878</td>\n",
       "      <td>0</td>\n",
       "    </tr>\n",
       "    <tr>\n",
       "      <th>2</th>\n",
       "      <td>0.633519</td>\n",
       "      <td>2.317671</td>\n",
       "      <td>0</td>\n",
       "    </tr>\n",
       "    <tr>\n",
       "      <th>3</th>\n",
       "      <td>0.369314</td>\n",
       "      <td>2.366958</td>\n",
       "      <td>0</td>\n",
       "    </tr>\n",
       "    <tr>\n",
       "      <th>4</th>\n",
       "      <td>1.555367</td>\n",
       "      <td>1.947923</td>\n",
       "      <td>0</td>\n",
       "    </tr>\n",
       "    <tr>\n",
       "      <th>...</th>\n",
       "      <td>...</td>\n",
       "      <td>...</td>\n",
       "      <td>...</td>\n",
       "    </tr>\n",
       "    <tr>\n",
       "      <th>145</th>\n",
       "      <td>-0.350297</td>\n",
       "      <td>-1.916422</td>\n",
       "      <td>2</td>\n",
       "    </tr>\n",
       "    <tr>\n",
       "      <th>146</th>\n",
       "      <td>-1.489033</td>\n",
       "      <td>-1.076534</td>\n",
       "      <td>2</td>\n",
       "    </tr>\n",
       "    <tr>\n",
       "      <th>147</th>\n",
       "      <td>-0.355014</td>\n",
       "      <td>-1.517677</td>\n",
       "      <td>2</td>\n",
       "    </tr>\n",
       "    <tr>\n",
       "      <th>148</th>\n",
       "      <td>0.709236</td>\n",
       "      <td>-1.766086</td>\n",
       "      <td>2</td>\n",
       "    </tr>\n",
       "    <tr>\n",
       "      <th>149</th>\n",
       "      <td>-0.401367</td>\n",
       "      <td>-0.880707</td>\n",
       "      <td>2</td>\n",
       "    </tr>\n",
       "  </tbody>\n",
       "</table>\n",
       "<p>150 rows × 3 columns</p>\n",
       "</div>"
      ]
     },
     "metadata": {},
     "output_type": "execute_result",
     "execution_count": 325
    }
   ],
   "source": [
    "iris_reduced"
   ],
   "execution_count": 325
  },
  {
   "cell_type": "markdown",
   "id": "e22636c4bc2289d4",
   "metadata": {},
   "source": [
    "### 4.3. Calculate the generalized inverse of input matrix"
   ]
  },
  {
   "cell_type": "code",
   "id": "d82d42f8951a5a24",
   "metadata": {
    "collapsed": false,
    "ExecuteTime": {
     "end_time": "2024-01-25T14:38:16.365594400Z",
     "start_time": "2024-01-25T14:38:15.925516600Z"
    }
   },
   "outputs": [],
   "source": [
    "# Calculate the generalized (Moore-Penrose) inverse\n",
    "formal_model_reduced_pinv = np.linalg.pinv(formal_model_reduced_values)\n",
    "\n",
    "# Convert to a pandas DataFrame\n",
    "formal_model_reduced_pinv_df = pd.DataFrame(formal_model_reduced_pinv)"
   ],
   "execution_count": 326
  },
  {
   "cell_type": "code",
   "id": "f723de97150d5c16",
   "metadata": {
    "collapsed": false,
    "ExecuteTime": {
     "end_time": "2024-01-25T14:38:16.389621600Z",
     "start_time": "2024-01-25T14:38:15.943039200Z"
    }
   },
   "outputs": [
    {
     "data": {
      "text/plain": [
       "        0        1         2         3         4         5         6    \\\n",
       "0  0.005020 -0.00241 -0.000007 -0.001673  0.006131  0.011097  0.002356   \n",
       "1  0.003341  0.00612  0.005773  0.006352  0.003171  0.000214  0.005032   \n",
       "\n",
       "        7         8         9    ...       140       141       142       143  \\\n",
       "0  0.003372 -0.004880 -0.001035  ...  0.002581  0.002857 -0.005758  0.003881   \n",
       "1  0.003977  0.007818  0.005775  ... -0.006049 -0.005948 -0.000366 -0.006644   \n",
       "\n",
       "        144       145       146       147       148       149  \n",
       "0  0.005921  0.001047 -0.007165  0.000364  0.007156 -0.000961  \n",
       "1 -0.007401 -0.005058 -0.000718 -0.003878 -0.006357 -0.001930  \n",
       "\n",
       "[2 rows x 150 columns]"
      ],
      "text/html": [
       "<div>\n",
       "<style scoped>\n",
       "    .dataframe tbody tr th:only-of-type {\n",
       "        vertical-align: middle;\n",
       "    }\n",
       "\n",
       "    .dataframe tbody tr th {\n",
       "        vertical-align: top;\n",
       "    }\n",
       "\n",
       "    .dataframe thead th {\n",
       "        text-align: right;\n",
       "    }\n",
       "</style>\n",
       "<table border=\"1\" class=\"dataframe\">\n",
       "  <thead>\n",
       "    <tr style=\"text-align: right;\">\n",
       "      <th></th>\n",
       "      <th>0</th>\n",
       "      <th>1</th>\n",
       "      <th>2</th>\n",
       "      <th>3</th>\n",
       "      <th>4</th>\n",
       "      <th>5</th>\n",
       "      <th>6</th>\n",
       "      <th>7</th>\n",
       "      <th>8</th>\n",
       "      <th>9</th>\n",
       "      <th>...</th>\n",
       "      <th>140</th>\n",
       "      <th>141</th>\n",
       "      <th>142</th>\n",
       "      <th>143</th>\n",
       "      <th>144</th>\n",
       "      <th>145</th>\n",
       "      <th>146</th>\n",
       "      <th>147</th>\n",
       "      <th>148</th>\n",
       "      <th>149</th>\n",
       "    </tr>\n",
       "  </thead>\n",
       "  <tbody>\n",
       "    <tr>\n",
       "      <th>0</th>\n",
       "      <td>0.005020</td>\n",
       "      <td>-0.00241</td>\n",
       "      <td>-0.000007</td>\n",
       "      <td>-0.001673</td>\n",
       "      <td>0.006131</td>\n",
       "      <td>0.011097</td>\n",
       "      <td>0.002356</td>\n",
       "      <td>0.003372</td>\n",
       "      <td>-0.004880</td>\n",
       "      <td>-0.001035</td>\n",
       "      <td>...</td>\n",
       "      <td>0.002581</td>\n",
       "      <td>0.002857</td>\n",
       "      <td>-0.005758</td>\n",
       "      <td>0.003881</td>\n",
       "      <td>0.005921</td>\n",
       "      <td>0.001047</td>\n",
       "      <td>-0.007165</td>\n",
       "      <td>0.000364</td>\n",
       "      <td>0.007156</td>\n",
       "      <td>-0.000961</td>\n",
       "    </tr>\n",
       "    <tr>\n",
       "      <th>1</th>\n",
       "      <td>0.003341</td>\n",
       "      <td>0.00612</td>\n",
       "      <td>0.005773</td>\n",
       "      <td>0.006352</td>\n",
       "      <td>0.003171</td>\n",
       "      <td>0.000214</td>\n",
       "      <td>0.005032</td>\n",
       "      <td>0.003977</td>\n",
       "      <td>0.007818</td>\n",
       "      <td>0.005775</td>\n",
       "      <td>...</td>\n",
       "      <td>-0.006049</td>\n",
       "      <td>-0.005948</td>\n",
       "      <td>-0.000366</td>\n",
       "      <td>-0.006644</td>\n",
       "      <td>-0.007401</td>\n",
       "      <td>-0.005058</td>\n",
       "      <td>-0.000718</td>\n",
       "      <td>-0.003878</td>\n",
       "      <td>-0.006357</td>\n",
       "      <td>-0.001930</td>\n",
       "    </tr>\n",
       "  </tbody>\n",
       "</table>\n",
       "<p>2 rows × 150 columns</p>\n",
       "</div>"
      ]
     },
     "metadata": {},
     "output_type": "execute_result",
     "execution_count": 327
    }
   ],
   "source": [
    "formal_model_reduced_pinv_df"
   ],
   "execution_count": 327
  },
  {
   "cell_type": "markdown",
   "id": "ae217465b26b7db8",
   "metadata": {},
   "source": [
    "### 4.4. Calculate transition matrix T"
   ]
  },
  {
   "cell_type": "code",
   "id": "41df41ba6680071d",
   "metadata": {
    "collapsed": false,
    "ExecuteTime": {
     "end_time": "2024-01-25T14:38:16.393621900Z",
     "start_time": "2024-01-25T14:38:15.973579800Z"
    }
   },
   "outputs": [],
   "source": [
    "transition_matrix_T = formal_model_reduced_pinv_df.dot(iris_features)"
   ],
   "execution_count": 328
  },
  {
   "cell_type": "code",
   "id": "481f9ce7d7ea80a6",
   "metadata": {
    "collapsed": false,
    "ExecuteTime": {
     "end_time": "2024-01-25T14:38:16.417314Z",
     "start_time": "2024-01-25T14:38:15.990603900Z"
    }
   },
   "outputs": [
    {
     "data": {
      "text/plain": [
       "          0         1         2         3\n",
       "0  0.096912  0.398755 -0.366143 -0.120252\n",
       "1 -0.506760 -0.048174 -0.938584 -0.408510"
      ],
      "text/html": [
       "<div>\n",
       "<style scoped>\n",
       "    .dataframe tbody tr th:only-of-type {\n",
       "        vertical-align: middle;\n",
       "    }\n",
       "\n",
       "    .dataframe tbody tr th {\n",
       "        vertical-align: top;\n",
       "    }\n",
       "\n",
       "    .dataframe thead th {\n",
       "        text-align: right;\n",
       "    }\n",
       "</style>\n",
       "<table border=\"1\" class=\"dataframe\">\n",
       "  <thead>\n",
       "    <tr style=\"text-align: right;\">\n",
       "      <th></th>\n",
       "      <th>0</th>\n",
       "      <th>1</th>\n",
       "      <th>2</th>\n",
       "      <th>3</th>\n",
       "    </tr>\n",
       "  </thead>\n",
       "  <tbody>\n",
       "    <tr>\n",
       "      <th>0</th>\n",
       "      <td>0.096912</td>\n",
       "      <td>0.398755</td>\n",
       "      <td>-0.366143</td>\n",
       "      <td>-0.120252</td>\n",
       "    </tr>\n",
       "    <tr>\n",
       "      <th>1</th>\n",
       "      <td>-0.506760</td>\n",
       "      <td>-0.048174</td>\n",
       "      <td>-0.938584</td>\n",
       "      <td>-0.408510</td>\n",
       "    </tr>\n",
       "  </tbody>\n",
       "</table>\n",
       "</div>"
      ]
     },
     "metadata": {},
     "output_type": "execute_result",
     "execution_count": 329
    }
   ],
   "source": [
    "transition_matrix_T"
   ],
   "execution_count": 329
  },
  {
   "cell_type": "markdown",
   "id": "63707c7d6fa3b351",
   "metadata": {},
   "source": [
    "## 5. Create Hyperplane"
   ]
  },
  {
   "cell_type": "code",
   "id": "af020167e0a630b2",
   "metadata": {
    "collapsed": false,
    "ExecuteTime": {
     "end_time": "2024-01-25T14:38:16.418313800Z",
     "start_time": "2024-01-25T14:38:16.004117400Z"
    }
   },
   "outputs": [],
   "source": [
    "coordinates_hyperplane_df = coordinates_df.values @ transition_matrix_T.values"
   ],
   "execution_count": 330
  },
  {
   "cell_type": "code",
   "id": "a49ccb2f95c82aa4",
   "metadata": {
    "collapsed": false,
    "ExecuteTime": {
     "end_time": "2024-01-25T14:38:16.419313600Z",
     "start_time": "2024-01-25T14:38:16.020652900Z"
    }
   },
   "outputs": [
    {
     "data": {
      "text/plain": [
       "array([[-1.20734331, -0.8938566 , -1.14488259, -0.57651744],\n",
       "       [-0.33783984, -0.03211573, -0.62572257, -0.27234029],\n",
       "       [ 0.53166364,  0.82962515, -0.10656255,  0.03183685],\n",
       "       [ 1.40116711,  1.69136603,  0.41259747,  0.336014  ]])"
      ]
     },
     "metadata": {},
     "output_type": "execute_result",
     "execution_count": 331
    }
   ],
   "source": [
    "coordinates_hyperplane_df"
   ],
   "execution_count": 331
  },
  {
   "cell_type": "code",
   "id": "e1f055e528cfd8f",
   "metadata": {
    "collapsed": false,
    "ExecuteTime": {
     "end_time": "2024-01-25T14:38:16.420313400Z",
     "start_time": "2024-01-25T14:38:16.037226400Z"
    }
   },
   "outputs": [
    {
     "data": {
      "text/plain": [
       "array([[ 1.        , -1.20734331, -0.8938566 , -1.14488259, -0.57651744],\n",
       "       [ 1.        , -0.33783984, -0.03211573, -0.62572257, -0.27234029],\n",
       "       [ 1.        ,  0.53166364,  0.82962515, -0.10656255,  0.03183685],\n",
       "       [ 1.        ,  1.40116711,  1.69136603,  0.41259747,  0.336014  ]])"
      ]
     },
     "metadata": {},
     "output_type": "execute_result",
     "execution_count": 332
    }
   ],
   "source": [
    "# Adding a new column with all values set to 1\n",
    "new_column = np.ones((coordinates_hyperplane_df.shape[0], 1))\n",
    "feature_vector_inverse = np.hstack((new_column, coordinates_hyperplane_df))\n",
    "\n",
    "feature_vector_inverse"
   ],
   "execution_count": 332
  },
  {
   "cell_type": "code",
   "id": "f5c5eee4c62ff7f6",
   "metadata": {
    "collapsed": false,
    "ExecuteTime": {
     "end_time": "2024-01-25T14:38:16.438333400Z",
     "start_time": "2024-01-25T14:38:16.053737800Z"
    }
   },
   "outputs": [
    {
     "name": "stdout",
     "output_type": "stream",
     "text": [
      "Optimization terminated successfully    (Exit mode 0)\n",
      "            Current function value: 1.0188605503268511e-05\n",
      "            Iterations: 4\n",
      "            Function evaluations: 53\n",
      "            Gradient evaluations: 4\n",
      "Optimization was successful. The weights are:\n",
      "      weight\n",
      "w0 -0.000031\n",
      "w1  0.000005\n",
      "w2  0.000030\n",
      "w3 -0.000043\n",
      "w4 -0.000018\n",
      "\n",
      "Value of the optimization criteria (objective function value): 1.0188605503268511e-05\n",
      "\n",
      "Convergence status: Optimization terminated successfully\n"
     ]
    }
   ],
   "source": [
    "# Optimization criteria function\n",
    "def optimization_criteria(W, X):\n",
    "    return np.sum(np.abs(X.dot(W.T)))\n",
    "\n",
    "# Initial guess (starting point for the optimization algorithm)\n",
    "weights_inverse_initial = np.zeros(feature_vector_inverse.shape[1])\n",
    "\n",
    "# Bounds for W (setting it between -1 and 1)\n",
    "bounds = [(-1, 1) for _ in range(feature_vector_inverse.shape[1])]\n",
    "\n",
    "# The actual optimization\n",
    "res = minimize(\n",
    "    optimization_criteria,\n",
    "    weights_inverse_initial,\n",
    "    args=(feature_vector_inverse,),\n",
    "    method='SLSQP',\n",
    "    bounds=bounds,\n",
    "    options={'disp': True}\n",
    ")\n",
    "\n",
    "# Checking if the optimization was successful\n",
    "if res.success:\n",
    "    # Extract the weights into a DataFrame\n",
    "    weights_inverse_output = pd.DataFrame(res.x, index=[f'w{i}' for i in range(len(res.x))], columns=['weight'])\n",
    "\n",
    "    print(\"Optimization was successful. The weights are:\")\n",
    "    print(weights_inverse_output)\n",
    "\n",
    "    # Output the value of the optimization criteria\n",
    "    print(\"\\nValue of the optimization criteria (objective function value):\", res.fun)\n",
    "else:\n",
    "    print(\"Optimization failed.\")\n",
    "\n",
    "# Checking for convergence\n",
    "print(\"\\nConvergence status:\", res.message)\n"
   ],
   "execution_count": 333
  },
  {
   "cell_type": "code",
   "id": "229473793e1f5f6d",
   "metadata": {
    "collapsed": false,
    "ExecuteTime": {
     "end_time": "2024-01-25T14:38:16.440337800Z",
     "start_time": "2024-01-25T14:38:16.066278300Z"
    }
   },
   "outputs": [
    {
     "data": {
      "text/plain": [
       "      weight\n",
       "w0 -0.000031\n",
       "w1  0.000005\n",
       "w2  0.000030\n",
       "w3 -0.000043\n",
       "w4 -0.000018"
      ],
      "text/html": [
       "<div>\n",
       "<style scoped>\n",
       "    .dataframe tbody tr th:only-of-type {\n",
       "        vertical-align: middle;\n",
       "    }\n",
       "\n",
       "    .dataframe tbody tr th {\n",
       "        vertical-align: top;\n",
       "    }\n",
       "\n",
       "    .dataframe thead th {\n",
       "        text-align: right;\n",
       "    }\n",
       "</style>\n",
       "<table border=\"1\" class=\"dataframe\">\n",
       "  <thead>\n",
       "    <tr style=\"text-align: right;\">\n",
       "      <th></th>\n",
       "      <th>weight</th>\n",
       "    </tr>\n",
       "  </thead>\n",
       "  <tbody>\n",
       "    <tr>\n",
       "      <th>w0</th>\n",
       "      <td>-0.000031</td>\n",
       "    </tr>\n",
       "    <tr>\n",
       "      <th>w1</th>\n",
       "      <td>0.000005</td>\n",
       "    </tr>\n",
       "    <tr>\n",
       "      <th>w2</th>\n",
       "      <td>0.000030</td>\n",
       "    </tr>\n",
       "    <tr>\n",
       "      <th>w3</th>\n",
       "      <td>-0.000043</td>\n",
       "    </tr>\n",
       "    <tr>\n",
       "      <th>w4</th>\n",
       "      <td>-0.000018</td>\n",
       "    </tr>\n",
       "  </tbody>\n",
       "</table>\n",
       "</div>"
      ]
     },
     "metadata": {},
     "output_type": "execute_result",
     "execution_count": 334
    }
   ],
   "source": [
    "weights_inverse_output"
   ],
   "execution_count": 334
  },
  {
   "cell_type": "code",
   "id": "fd4510816a331570",
   "metadata": {
    "collapsed": false,
    "ExecuteTime": {
     "end_time": "2024-01-25T14:38:16.442333900Z",
     "start_time": "2024-01-25T14:38:16.086307900Z"
    }
   },
   "outputs": [
    {
     "data": {
      "text/plain": [
       "     weight\n",
       "0  0.000005\n",
       "1  0.000030\n",
       "2 -0.000043\n",
       "3 -0.000018\n",
       "4 -0.000031"
      ],
      "text/html": [
       "<div>\n",
       "<style scoped>\n",
       "    .dataframe tbody tr th:only-of-type {\n",
       "        vertical-align: middle;\n",
       "    }\n",
       "\n",
       "    .dataframe tbody tr th {\n",
       "        vertical-align: top;\n",
       "    }\n",
       "\n",
       "    .dataframe thead th {\n",
       "        text-align: right;\n",
       "    }\n",
       "</style>\n",
       "<table border=\"1\" class=\"dataframe\">\n",
       "  <thead>\n",
       "    <tr style=\"text-align: right;\">\n",
       "      <th></th>\n",
       "      <th>weight</th>\n",
       "    </tr>\n",
       "  </thead>\n",
       "  <tbody>\n",
       "    <tr>\n",
       "      <th>0</th>\n",
       "      <td>0.000005</td>\n",
       "    </tr>\n",
       "    <tr>\n",
       "      <th>1</th>\n",
       "      <td>0.000030</td>\n",
       "    </tr>\n",
       "    <tr>\n",
       "      <th>2</th>\n",
       "      <td>-0.000043</td>\n",
       "    </tr>\n",
       "    <tr>\n",
       "      <th>3</th>\n",
       "      <td>-0.000018</td>\n",
       "    </tr>\n",
       "    <tr>\n",
       "      <th>4</th>\n",
       "      <td>-0.000031</td>\n",
       "    </tr>\n",
       "  </tbody>\n",
       "</table>\n",
       "</div>"
      ]
     },
     "metadata": {},
     "output_type": "execute_result",
     "execution_count": 335
    }
   ],
   "source": [
    "# Reorder the weight vector so that w0 is at the end.\n",
    "weights_df_reordered = pd.concat([weights_inverse_output.iloc[1:], weights_inverse_output.iloc[0:1]]).reset_index(drop=True)\n",
    "\n",
    "# Show the modified DataFrame\n",
    "weights_df_reordered\n"
   ],
   "execution_count": 335
  },
  {
   "cell_type": "code",
   "id": "6c4bb7858af12496",
   "metadata": {
    "collapsed": false,
    "ExecuteTime": {
     "end_time": "2024-01-25T14:38:16.443333600Z",
     "start_time": "2024-01-25T14:38:16.099821500Z"
    }
   },
   "outputs": [
    {
     "data": {
      "text/plain": [
       "     sepal length (cm)  sepal width (cm)  petal length (cm)  petal width (cm)  \\\n",
       "0                  5.1               3.5                1.4               0.2   \n",
       "1                  4.9               3.0                1.4               0.2   \n",
       "2                  4.7               3.2                1.3               0.2   \n",
       "3                  4.6               3.1                1.5               0.2   \n",
       "4                  5.0               3.6                1.4               0.2   \n",
       "..                 ...               ...                ...               ...   \n",
       "145                6.7               3.0                5.2               2.3   \n",
       "146                6.3               2.5                5.0               1.9   \n",
       "147                6.5               3.0                5.2               2.0   \n",
       "148                6.2               3.4                5.4               2.3   \n",
       "149                5.9               3.0                5.1               1.8   \n",
       "\n",
       "     ones  \n",
       "0       1  \n",
       "1       1  \n",
       "2       1  \n",
       "3       1  \n",
       "4       1  \n",
       "..    ...  \n",
       "145     1  \n",
       "146     1  \n",
       "147     1  \n",
       "148     1  \n",
       "149     1  \n",
       "\n",
       "[150 rows x 5 columns]"
      ],
      "text/html": [
       "<div>\n",
       "<style scoped>\n",
       "    .dataframe tbody tr th:only-of-type {\n",
       "        vertical-align: middle;\n",
       "    }\n",
       "\n",
       "    .dataframe tbody tr th {\n",
       "        vertical-align: top;\n",
       "    }\n",
       "\n",
       "    .dataframe thead th {\n",
       "        text-align: right;\n",
       "    }\n",
       "</style>\n",
       "<table border=\"1\" class=\"dataframe\">\n",
       "  <thead>\n",
       "    <tr style=\"text-align: right;\">\n",
       "      <th></th>\n",
       "      <th>sepal length (cm)</th>\n",
       "      <th>sepal width (cm)</th>\n",
       "      <th>petal length (cm)</th>\n",
       "      <th>petal width (cm)</th>\n",
       "      <th>ones</th>\n",
       "    </tr>\n",
       "  </thead>\n",
       "  <tbody>\n",
       "    <tr>\n",
       "      <th>0</th>\n",
       "      <td>5.1</td>\n",
       "      <td>3.5</td>\n",
       "      <td>1.4</td>\n",
       "      <td>0.2</td>\n",
       "      <td>1</td>\n",
       "    </tr>\n",
       "    <tr>\n",
       "      <th>1</th>\n",
       "      <td>4.9</td>\n",
       "      <td>3.0</td>\n",
       "      <td>1.4</td>\n",
       "      <td>0.2</td>\n",
       "      <td>1</td>\n",
       "    </tr>\n",
       "    <tr>\n",
       "      <th>2</th>\n",
       "      <td>4.7</td>\n",
       "      <td>3.2</td>\n",
       "      <td>1.3</td>\n",
       "      <td>0.2</td>\n",
       "      <td>1</td>\n",
       "    </tr>\n",
       "    <tr>\n",
       "      <th>3</th>\n",
       "      <td>4.6</td>\n",
       "      <td>3.1</td>\n",
       "      <td>1.5</td>\n",
       "      <td>0.2</td>\n",
       "      <td>1</td>\n",
       "    </tr>\n",
       "    <tr>\n",
       "      <th>4</th>\n",
       "      <td>5.0</td>\n",
       "      <td>3.6</td>\n",
       "      <td>1.4</td>\n",
       "      <td>0.2</td>\n",
       "      <td>1</td>\n",
       "    </tr>\n",
       "    <tr>\n",
       "      <th>...</th>\n",
       "      <td>...</td>\n",
       "      <td>...</td>\n",
       "      <td>...</td>\n",
       "      <td>...</td>\n",
       "      <td>...</td>\n",
       "    </tr>\n",
       "    <tr>\n",
       "      <th>145</th>\n",
       "      <td>6.7</td>\n",
       "      <td>3.0</td>\n",
       "      <td>5.2</td>\n",
       "      <td>2.3</td>\n",
       "      <td>1</td>\n",
       "    </tr>\n",
       "    <tr>\n",
       "      <th>146</th>\n",
       "      <td>6.3</td>\n",
       "      <td>2.5</td>\n",
       "      <td>5.0</td>\n",
       "      <td>1.9</td>\n",
       "      <td>1</td>\n",
       "    </tr>\n",
       "    <tr>\n",
       "      <th>147</th>\n",
       "      <td>6.5</td>\n",
       "      <td>3.0</td>\n",
       "      <td>5.2</td>\n",
       "      <td>2.0</td>\n",
       "      <td>1</td>\n",
       "    </tr>\n",
       "    <tr>\n",
       "      <th>148</th>\n",
       "      <td>6.2</td>\n",
       "      <td>3.4</td>\n",
       "      <td>5.4</td>\n",
       "      <td>2.3</td>\n",
       "      <td>1</td>\n",
       "    </tr>\n",
       "    <tr>\n",
       "      <th>149</th>\n",
       "      <td>5.9</td>\n",
       "      <td>3.0</td>\n",
       "      <td>5.1</td>\n",
       "      <td>1.8</td>\n",
       "      <td>1</td>\n",
       "    </tr>\n",
       "  </tbody>\n",
       "</table>\n",
       "<p>150 rows × 5 columns</p>\n",
       "</div>"
      ]
     },
     "metadata": {},
     "output_type": "execute_result",
     "execution_count": 336
    }
   ],
   "source": [
    "# Convert iris_features to a DataFrame\n",
    "# and an additional column\n",
    "new_formal_model_features = pd.DataFrame(iris_features, columns=iris.feature_names)\n",
    "new_formal_model_features['ones'] = 1\n",
    "new_formal_model_features\n"
   ],
   "execution_count": 336
  },
  {
   "cell_type": "code",
   "id": "c2f759c7f2967205",
   "metadata": {
    "collapsed": false,
    "ExecuteTime": {
     "end_time": "2024-01-25T14:38:16.443333600Z",
     "start_time": "2024-01-25T14:38:16.131875900Z"
    }
   },
   "outputs": [],
   "source": [
    "# # Multiply the features by the weights\n",
    "my_result = new_formal_model_features.mul(weights_df_reordered['weight'].values, axis=1)\n",
    "\n",
    "# Sum along the rows to get the final single column for predictions\n",
    "my_predictions = my_result.sum(axis=1)\n",
    "\n",
    "# Convert the series to a data frame\n",
    "my_predictions_df = my_predictions.to_frame(name='Prediction')"
   ],
   "execution_count": 337
  },
  {
   "cell_type": "code",
   "id": "47d42fcab1156ca0",
   "metadata": {
    "collapsed": false,
    "ExecuteTime": {
     "end_time": "2024-01-25T14:38:16.446841800Z",
     "start_time": "2024-01-25T14:38:16.147905900Z"
    }
   },
   "outputs": [
    {
     "data": {
      "text/plain": [
       "     Prediction\n",
       "0      0.000037\n",
       "1      0.000021\n",
       "2      0.000030\n",
       "3      0.000018\n",
       "4      0.000039\n",
       "..          ...\n",
       "145   -0.000171\n",
       "146   -0.000173\n",
       "147   -0.000167\n",
       "148   -0.000171\n",
       "149   -0.000162\n",
       "\n",
       "[150 rows x 1 columns]"
      ],
      "text/html": [
       "<div>\n",
       "<style scoped>\n",
       "    .dataframe tbody tr th:only-of-type {\n",
       "        vertical-align: middle;\n",
       "    }\n",
       "\n",
       "    .dataframe tbody tr th {\n",
       "        vertical-align: top;\n",
       "    }\n",
       "\n",
       "    .dataframe thead th {\n",
       "        text-align: right;\n",
       "    }\n",
       "</style>\n",
       "<table border=\"1\" class=\"dataframe\">\n",
       "  <thead>\n",
       "    <tr style=\"text-align: right;\">\n",
       "      <th></th>\n",
       "      <th>Prediction</th>\n",
       "    </tr>\n",
       "  </thead>\n",
       "  <tbody>\n",
       "    <tr>\n",
       "      <th>0</th>\n",
       "      <td>0.000037</td>\n",
       "    </tr>\n",
       "    <tr>\n",
       "      <th>1</th>\n",
       "      <td>0.000021</td>\n",
       "    </tr>\n",
       "    <tr>\n",
       "      <th>2</th>\n",
       "      <td>0.000030</td>\n",
       "    </tr>\n",
       "    <tr>\n",
       "      <th>3</th>\n",
       "      <td>0.000018</td>\n",
       "    </tr>\n",
       "    <tr>\n",
       "      <th>4</th>\n",
       "      <td>0.000039</td>\n",
       "    </tr>\n",
       "    <tr>\n",
       "      <th>...</th>\n",
       "      <td>...</td>\n",
       "    </tr>\n",
       "    <tr>\n",
       "      <th>145</th>\n",
       "      <td>-0.000171</td>\n",
       "    </tr>\n",
       "    <tr>\n",
       "      <th>146</th>\n",
       "      <td>-0.000173</td>\n",
       "    </tr>\n",
       "    <tr>\n",
       "      <th>147</th>\n",
       "      <td>-0.000167</td>\n",
       "    </tr>\n",
       "    <tr>\n",
       "      <th>148</th>\n",
       "      <td>-0.000171</td>\n",
       "    </tr>\n",
       "    <tr>\n",
       "      <th>149</th>\n",
       "      <td>-0.000162</td>\n",
       "    </tr>\n",
       "  </tbody>\n",
       "</table>\n",
       "<p>150 rows × 1 columns</p>\n",
       "</div>"
      ]
     },
     "metadata": {},
     "output_type": "execute_result",
     "execution_count": 338
    }
   ],
   "source": [
    "my_predictions_df"
   ],
   "execution_count": 338
  },
  {
   "cell_type": "code",
   "id": "9c176f0dcb5faa9c",
   "metadata": {
    "collapsed": false,
    "ExecuteTime": {
     "end_time": "2024-01-25T14:38:16.447845600Z",
     "start_time": "2024-01-25T14:38:16.159031200Z"
    }
   },
   "outputs": [],
   "source": [
    "iris_labels_df = pd.DataFrame(iris_labels, columns=['labels'])\n",
    "\n",
    "my_predictions_labels_df = pd.concat([my_predictions_df, iris_labels_df], axis=1)\n",
    "my_predictions_full_df = pd.concat([iris_df, my_predictions_df], axis=1)"
   ],
   "execution_count": 339
  },
  {
   "cell_type": "code",
   "id": "fe92461bc9c2e37d",
   "metadata": {
    "collapsed": false,
    "ExecuteTime": {
     "end_time": "2024-01-25T14:38:16.448846100Z",
     "start_time": "2024-01-25T14:38:16.179078200Z"
    }
   },
   "outputs": [
    {
     "data": {
      "text/plain": [
       "     sepal length (cm)  sepal width (cm)  petal length (cm)  petal width (cm)  \\\n",
       "0                  5.1               3.5                1.4               0.2   \n",
       "1                  4.9               3.0                1.4               0.2   \n",
       "2                  4.7               3.2                1.3               0.2   \n",
       "3                  4.6               3.1                1.5               0.2   \n",
       "4                  5.0               3.6                1.4               0.2   \n",
       "..                 ...               ...                ...               ...   \n",
       "145                6.7               3.0                5.2               2.3   \n",
       "146                6.3               2.5                5.0               1.9   \n",
       "147                6.5               3.0                5.2               2.0   \n",
       "148                6.2               3.4                5.4               2.3   \n",
       "149                5.9               3.0                5.1               1.8   \n",
       "\n",
       "     label label_name  Prediction  \n",
       "0        0     setosa    0.000037  \n",
       "1        0     setosa    0.000021  \n",
       "2        0     setosa    0.000030  \n",
       "3        0     setosa    0.000018  \n",
       "4        0     setosa    0.000039  \n",
       "..     ...        ...         ...  \n",
       "145      2  virginica   -0.000171  \n",
       "146      2  virginica   -0.000173  \n",
       "147      2  virginica   -0.000167  \n",
       "148      2  virginica   -0.000171  \n",
       "149      2  virginica   -0.000162  \n",
       "\n",
       "[150 rows x 7 columns]"
      ],
      "text/html": [
       "<div>\n",
       "<style scoped>\n",
       "    .dataframe tbody tr th:only-of-type {\n",
       "        vertical-align: middle;\n",
       "    }\n",
       "\n",
       "    .dataframe tbody tr th {\n",
       "        vertical-align: top;\n",
       "    }\n",
       "\n",
       "    .dataframe thead th {\n",
       "        text-align: right;\n",
       "    }\n",
       "</style>\n",
       "<table border=\"1\" class=\"dataframe\">\n",
       "  <thead>\n",
       "    <tr style=\"text-align: right;\">\n",
       "      <th></th>\n",
       "      <th>sepal length (cm)</th>\n",
       "      <th>sepal width (cm)</th>\n",
       "      <th>petal length (cm)</th>\n",
       "      <th>petal width (cm)</th>\n",
       "      <th>label</th>\n",
       "      <th>label_name</th>\n",
       "      <th>Prediction</th>\n",
       "    </tr>\n",
       "  </thead>\n",
       "  <tbody>\n",
       "    <tr>\n",
       "      <th>0</th>\n",
       "      <td>5.1</td>\n",
       "      <td>3.5</td>\n",
       "      <td>1.4</td>\n",
       "      <td>0.2</td>\n",
       "      <td>0</td>\n",
       "      <td>setosa</td>\n",
       "      <td>0.000037</td>\n",
       "    </tr>\n",
       "    <tr>\n",
       "      <th>1</th>\n",
       "      <td>4.9</td>\n",
       "      <td>3.0</td>\n",
       "      <td>1.4</td>\n",
       "      <td>0.2</td>\n",
       "      <td>0</td>\n",
       "      <td>setosa</td>\n",
       "      <td>0.000021</td>\n",
       "    </tr>\n",
       "    <tr>\n",
       "      <th>2</th>\n",
       "      <td>4.7</td>\n",
       "      <td>3.2</td>\n",
       "      <td>1.3</td>\n",
       "      <td>0.2</td>\n",
       "      <td>0</td>\n",
       "      <td>setosa</td>\n",
       "      <td>0.000030</td>\n",
       "    </tr>\n",
       "    <tr>\n",
       "      <th>3</th>\n",
       "      <td>4.6</td>\n",
       "      <td>3.1</td>\n",
       "      <td>1.5</td>\n",
       "      <td>0.2</td>\n",
       "      <td>0</td>\n",
       "      <td>setosa</td>\n",
       "      <td>0.000018</td>\n",
       "    </tr>\n",
       "    <tr>\n",
       "      <th>4</th>\n",
       "      <td>5.0</td>\n",
       "      <td>3.6</td>\n",
       "      <td>1.4</td>\n",
       "      <td>0.2</td>\n",
       "      <td>0</td>\n",
       "      <td>setosa</td>\n",
       "      <td>0.000039</td>\n",
       "    </tr>\n",
       "    <tr>\n",
       "      <th>...</th>\n",
       "      <td>...</td>\n",
       "      <td>...</td>\n",
       "      <td>...</td>\n",
       "      <td>...</td>\n",
       "      <td>...</td>\n",
       "      <td>...</td>\n",
       "      <td>...</td>\n",
       "    </tr>\n",
       "    <tr>\n",
       "      <th>145</th>\n",
       "      <td>6.7</td>\n",
       "      <td>3.0</td>\n",
       "      <td>5.2</td>\n",
       "      <td>2.3</td>\n",
       "      <td>2</td>\n",
       "      <td>virginica</td>\n",
       "      <td>-0.000171</td>\n",
       "    </tr>\n",
       "    <tr>\n",
       "      <th>146</th>\n",
       "      <td>6.3</td>\n",
       "      <td>2.5</td>\n",
       "      <td>5.0</td>\n",
       "      <td>1.9</td>\n",
       "      <td>2</td>\n",
       "      <td>virginica</td>\n",
       "      <td>-0.000173</td>\n",
       "    </tr>\n",
       "    <tr>\n",
       "      <th>147</th>\n",
       "      <td>6.5</td>\n",
       "      <td>3.0</td>\n",
       "      <td>5.2</td>\n",
       "      <td>2.0</td>\n",
       "      <td>2</td>\n",
       "      <td>virginica</td>\n",
       "      <td>-0.000167</td>\n",
       "    </tr>\n",
       "    <tr>\n",
       "      <th>148</th>\n",
       "      <td>6.2</td>\n",
       "      <td>3.4</td>\n",
       "      <td>5.4</td>\n",
       "      <td>2.3</td>\n",
       "      <td>2</td>\n",
       "      <td>virginica</td>\n",
       "      <td>-0.000171</td>\n",
       "    </tr>\n",
       "    <tr>\n",
       "      <th>149</th>\n",
       "      <td>5.9</td>\n",
       "      <td>3.0</td>\n",
       "      <td>5.1</td>\n",
       "      <td>1.8</td>\n",
       "      <td>2</td>\n",
       "      <td>virginica</td>\n",
       "      <td>-0.000162</td>\n",
       "    </tr>\n",
       "  </tbody>\n",
       "</table>\n",
       "<p>150 rows × 7 columns</p>\n",
       "</div>"
      ]
     },
     "metadata": {},
     "output_type": "execute_result",
     "execution_count": 340
    }
   ],
   "source": [
    "my_predictions_full_df"
   ],
   "execution_count": 340
  },
  {
   "cell_type": "code",
   "id": "a9dbb3eed4a46abb",
   "metadata": {
    "collapsed": false,
    "ExecuteTime": {
     "end_time": "2024-01-25T14:38:16.449845600Z",
     "start_time": "2024-01-25T14:38:16.205094100Z"
    }
   },
   "outputs": [],
   "source": [
    "# my_predictions_labels_df.to_csv('.\\projects_temp-data\\my_predictions_df_iris.csv', index=False)\n",
    "# my_predictions_full_df.to_csv('.\\projects_temp-data\\my_predictions_df_iris_full.csv', index=False)\n",
    "# my_predictions_full_df.to_excel('.\\projects_temp-data\\my_predictions_df_iris_full.xlsx', index=False)"
   ],
   "execution_count": 341
  },
  {
   "cell_type": "code",
   "outputs": [
    {
     "data": {
      "text/plain": [
       "   labels  positive_count  negative_count  sum\n",
       "0       0              50               0   50\n",
       "1       1               0              50   50\n",
       "2       2               0              50   50"
      ],
      "text/html": [
       "<div>\n",
       "<style scoped>\n",
       "    .dataframe tbody tr th:only-of-type {\n",
       "        vertical-align: middle;\n",
       "    }\n",
       "\n",
       "    .dataframe tbody tr th {\n",
       "        vertical-align: top;\n",
       "    }\n",
       "\n",
       "    .dataframe thead th {\n",
       "        text-align: right;\n",
       "    }\n",
       "</style>\n",
       "<table border=\"1\" class=\"dataframe\">\n",
       "  <thead>\n",
       "    <tr style=\"text-align: right;\">\n",
       "      <th></th>\n",
       "      <th>labels</th>\n",
       "      <th>positive_count</th>\n",
       "      <th>negative_count</th>\n",
       "      <th>sum</th>\n",
       "    </tr>\n",
       "  </thead>\n",
       "  <tbody>\n",
       "    <tr>\n",
       "      <th>0</th>\n",
       "      <td>0</td>\n",
       "      <td>50</td>\n",
       "      <td>0</td>\n",
       "      <td>50</td>\n",
       "    </tr>\n",
       "    <tr>\n",
       "      <th>1</th>\n",
       "      <td>1</td>\n",
       "      <td>0</td>\n",
       "      <td>50</td>\n",
       "      <td>50</td>\n",
       "    </tr>\n",
       "    <tr>\n",
       "      <th>2</th>\n",
       "      <td>2</td>\n",
       "      <td>0</td>\n",
       "      <td>50</td>\n",
       "      <td>50</td>\n",
       "    </tr>\n",
       "  </tbody>\n",
       "</table>\n",
       "</div>"
      ]
     },
     "metadata": {},
     "output_type": "execute_result",
     "execution_count": 342
    }
   ],
   "source": [
    "def count_positives_negatives(df):\n",
    "    \"\"\"\n",
    "    Count the number of positive and negative numbers in the 'Prediction' column for each unique value in the 'Target' column.\n",
    "\n",
    "    :param df: DataFrame with 'Target' and 'Prediction' columns\n",
    "    :return: DataFrame with the count of positive and negative predictions for each target\n",
    "    \"\"\"\n",
    "    # Group by 'Target' and then apply the counting logic\n",
    "    result = df.groupby('labels')['Prediction'].agg(\n",
    "        positive_count=lambda x: (x > 0).sum(),\n",
    "        negative_count=lambda x: (x < 0).sum(),\n",
    "        sum=lambda x: x.count()\n",
    "    ).reset_index()\n",
    "\n",
    "    return result\n",
    "\n",
    "# Apply the function to the predictions DataFrame\n",
    "result_df = count_positives_negatives(my_predictions_labels_df)\n",
    "result_df"
   ],
   "metadata": {
    "collapsed": false,
    "ExecuteTime": {
     "end_time": "2024-01-25T14:38:16.502413700Z",
     "start_time": "2024-01-25T14:38:16.254057700Z"
    }
   },
   "id": "6120623a92febffe",
   "execution_count": 342
  },
  {
   "cell_type": "code",
   "outputs": [],
   "source": [],
   "metadata": {
    "collapsed": false,
    "ExecuteTime": {
     "end_time": "2024-01-25T14:38:16.514996300Z",
     "start_time": "2024-01-25T14:38:16.284193300Z"
    }
   },
   "id": "bfa80004bee706aa",
   "execution_count": 342
  }
 ],
 "metadata": {
  "kernelspec": {
   "display_name": "Python 3 (ipykernel)",
   "language": "python",
   "name": "python3"
  },
  "language_info": {
   "codemirror_mode": {
    "name": "ipython",
    "version": 3
   },
   "file_extension": ".py",
   "mimetype": "text/x-python",
   "name": "python",
   "nbconvert_exporter": "python",
   "pygments_lexer": "ipython3",
   "version": "3.9.16"
  }
 },
 "nbformat": 4,
 "nbformat_minor": 5
}
